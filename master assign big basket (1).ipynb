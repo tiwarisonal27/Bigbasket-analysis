{
 "cells": [
  {
   "cell_type": "code",
   "execution_count": null,
   "id": "32463f7c-595d-4e77-9eb1-28237faa1c00",
   "metadata": {},
   "outputs": [],
   "source": [
    "#Big Basket Anaylsis "
   ]
  },
  {
   "cell_type": "code",
   "execution_count": 2,
   "id": "77913724-89db-4419-9ab0-49a7b3e1c319",
   "metadata": {},
   "outputs": [],
   "source": [
    "import pandas as pd\n",
    "import numpy as np"
   ]
  },
  {
   "cell_type": "code",
   "execution_count": 3,
   "id": "ce62f75d-af5a-459f-9068-2e450d45640a",
   "metadata": {},
   "outputs": [],
   "source": [
    "bigbasket=pd.read_csv(r\"C:\\users\\dell\\Downloads\\BigBasket Products.csv\")"
   ]
  },
  {
   "cell_type": "code",
   "execution_count": 4,
   "id": "f0592f75-c290-4fa1-b2e0-9dddc9a8dae2",
   "metadata": {},
   "outputs": [
    {
     "data": {
      "text/html": [
       "<div>\n",
       "<style scoped>\n",
       "    .dataframe tbody tr th:only-of-type {\n",
       "        vertical-align: middle;\n",
       "    }\n",
       "\n",
       "    .dataframe tbody tr th {\n",
       "        vertical-align: top;\n",
       "    }\n",
       "\n",
       "    .dataframe thead th {\n",
       "        text-align: right;\n",
       "    }\n",
       "</style>\n",
       "<table border=\"1\" class=\"dataframe\">\n",
       "  <thead>\n",
       "    <tr style=\"text-align: right;\">\n",
       "      <th></th>\n",
       "      <th>index</th>\n",
       "      <th>product</th>\n",
       "      <th>category</th>\n",
       "      <th>sub_category</th>\n",
       "      <th>brand</th>\n",
       "      <th>sale_price</th>\n",
       "      <th>market_price</th>\n",
       "      <th>type</th>\n",
       "      <th>rating</th>\n",
       "      <th>description</th>\n",
       "    </tr>\n",
       "  </thead>\n",
       "  <tbody>\n",
       "    <tr>\n",
       "      <th>0</th>\n",
       "      <td>1</td>\n",
       "      <td>Garlic Oil - Vegetarian Capsule 500 mg</td>\n",
       "      <td>Beauty &amp; Hygiene</td>\n",
       "      <td>Hair Care</td>\n",
       "      <td>Sri Sri Ayurveda</td>\n",
       "      <td>220.0</td>\n",
       "      <td>220.0</td>\n",
       "      <td>Hair Oil &amp; Serum</td>\n",
       "      <td>4.1</td>\n",
       "      <td>This Product contains Garlic Oil that is known...</td>\n",
       "    </tr>\n",
       "    <tr>\n",
       "      <th>1</th>\n",
       "      <td>2</td>\n",
       "      <td>Water Bottle - Orange</td>\n",
       "      <td>Kitchen, Garden &amp; Pets</td>\n",
       "      <td>Storage &amp; Accessories</td>\n",
       "      <td>Mastercook</td>\n",
       "      <td>180.0</td>\n",
       "      <td>180.0</td>\n",
       "      <td>Water &amp; Fridge Bottles</td>\n",
       "      <td>2.3</td>\n",
       "      <td>Each product is microwave safe (without lid), ...</td>\n",
       "    </tr>\n",
       "    <tr>\n",
       "      <th>2</th>\n",
       "      <td>3</td>\n",
       "      <td>Brass Angle Deep - Plain, No.2</td>\n",
       "      <td>Cleaning &amp; Household</td>\n",
       "      <td>Pooja Needs</td>\n",
       "      <td>Trm</td>\n",
       "      <td>119.0</td>\n",
       "      <td>250.0</td>\n",
       "      <td>Lamp &amp; Lamp Oil</td>\n",
       "      <td>3.4</td>\n",
       "      <td>A perfect gift for all occasions, be it your m...</td>\n",
       "    </tr>\n",
       "    <tr>\n",
       "      <th>3</th>\n",
       "      <td>4</td>\n",
       "      <td>Cereal Flip Lid Container/Storage Jar - Assort...</td>\n",
       "      <td>Cleaning &amp; Household</td>\n",
       "      <td>Bins &amp; Bathroom Ware</td>\n",
       "      <td>Nakoda</td>\n",
       "      <td>149.0</td>\n",
       "      <td>176.0</td>\n",
       "      <td>Laundry, Storage Baskets</td>\n",
       "      <td>3.7</td>\n",
       "      <td>Multipurpose container with an attractive desi...</td>\n",
       "    </tr>\n",
       "    <tr>\n",
       "      <th>4</th>\n",
       "      <td>5</td>\n",
       "      <td>Creme Soft Soap - For Hands &amp; Body</td>\n",
       "      <td>Beauty &amp; Hygiene</td>\n",
       "      <td>Bath &amp; Hand Wash</td>\n",
       "      <td>Nivea</td>\n",
       "      <td>162.0</td>\n",
       "      <td>162.0</td>\n",
       "      <td>Bathing Bars &amp; Soaps</td>\n",
       "      <td>4.4</td>\n",
       "      <td>Nivea Creme Soft Soap gives your skin the best...</td>\n",
       "    </tr>\n",
       "  </tbody>\n",
       "</table>\n",
       "</div>"
      ],
      "text/plain": [
       "   index                                            product  \\\n",
       "0      1             Garlic Oil - Vegetarian Capsule 500 mg   \n",
       "1      2                              Water Bottle - Orange   \n",
       "2      3                     Brass Angle Deep - Plain, No.2   \n",
       "3      4  Cereal Flip Lid Container/Storage Jar - Assort...   \n",
       "4      5                 Creme Soft Soap - For Hands & Body   \n",
       "\n",
       "                 category           sub_category              brand  \\\n",
       "0        Beauty & Hygiene              Hair Care  Sri Sri Ayurveda    \n",
       "1  Kitchen, Garden & Pets  Storage & Accessories         Mastercook   \n",
       "2    Cleaning & Household            Pooja Needs                Trm   \n",
       "3    Cleaning & Household   Bins & Bathroom Ware             Nakoda   \n",
       "4        Beauty & Hygiene       Bath & Hand Wash              Nivea   \n",
       "\n",
       "   sale_price  market_price                      type  rating  \\\n",
       "0       220.0         220.0          Hair Oil & Serum     4.1   \n",
       "1       180.0         180.0    Water & Fridge Bottles     2.3   \n",
       "2       119.0         250.0           Lamp & Lamp Oil     3.4   \n",
       "3       149.0         176.0  Laundry, Storage Baskets     3.7   \n",
       "4       162.0         162.0      Bathing Bars & Soaps     4.4   \n",
       "\n",
       "                                         description  \n",
       "0  This Product contains Garlic Oil that is known...  \n",
       "1  Each product is microwave safe (without lid), ...  \n",
       "2  A perfect gift for all occasions, be it your m...  \n",
       "3  Multipurpose container with an attractive desi...  \n",
       "4  Nivea Creme Soft Soap gives your skin the best...  "
      ]
     },
     "execution_count": 4,
     "metadata": {},
     "output_type": "execute_result"
    }
   ],
   "source": [
    "bigbasket.head()"
   ]
  },
  {
   "cell_type": "code",
   "execution_count": 5,
   "id": "b7da1b17-013b-44ef-bec6-5ee2545403e3",
   "metadata": {},
   "outputs": [
    {
     "data": {
      "text/html": [
       "<div>\n",
       "<style scoped>\n",
       "    .dataframe tbody tr th:only-of-type {\n",
       "        vertical-align: middle;\n",
       "    }\n",
       "\n",
       "    .dataframe tbody tr th {\n",
       "        vertical-align: top;\n",
       "    }\n",
       "\n",
       "    .dataframe thead th {\n",
       "        text-align: right;\n",
       "    }\n",
       "</style>\n",
       "<table border=\"1\" class=\"dataframe\">\n",
       "  <thead>\n",
       "    <tr style=\"text-align: right;\">\n",
       "      <th></th>\n",
       "      <th>index</th>\n",
       "      <th>product</th>\n",
       "      <th>category</th>\n",
       "      <th>sub_category</th>\n",
       "      <th>brand</th>\n",
       "      <th>sale_price</th>\n",
       "      <th>market_price</th>\n",
       "      <th>type</th>\n",
       "      <th>rating</th>\n",
       "      <th>description</th>\n",
       "    </tr>\n",
       "  </thead>\n",
       "  <tbody>\n",
       "    <tr>\n",
       "      <th>27550</th>\n",
       "      <td>27551</td>\n",
       "      <td>Wottagirl! Perfume Spray - Heaven, Classic</td>\n",
       "      <td>Beauty &amp; Hygiene</td>\n",
       "      <td>Fragrances &amp; Deos</td>\n",
       "      <td>Layerr</td>\n",
       "      <td>199.20</td>\n",
       "      <td>249.0</td>\n",
       "      <td>Perfume</td>\n",
       "      <td>3.9</td>\n",
       "      <td>Layerr brings you Wottagirl Classic fragrant b...</td>\n",
       "    </tr>\n",
       "    <tr>\n",
       "      <th>27551</th>\n",
       "      <td>27552</td>\n",
       "      <td>Rosemary</td>\n",
       "      <td>Gourmet &amp; World Food</td>\n",
       "      <td>Cooking &amp; Baking Needs</td>\n",
       "      <td>Puramate</td>\n",
       "      <td>67.50</td>\n",
       "      <td>75.0</td>\n",
       "      <td>Herbs, Seasonings &amp; Rubs</td>\n",
       "      <td>4.0</td>\n",
       "      <td>Puramate rosemary is enough to transform a dis...</td>\n",
       "    </tr>\n",
       "    <tr>\n",
       "      <th>27552</th>\n",
       "      <td>27553</td>\n",
       "      <td>Peri-Peri Sweet Potato Chips</td>\n",
       "      <td>Gourmet &amp; World Food</td>\n",
       "      <td>Snacks, Dry Fruits, Nuts</td>\n",
       "      <td>FabBox</td>\n",
       "      <td>200.00</td>\n",
       "      <td>200.0</td>\n",
       "      <td>Nachos &amp; Chips</td>\n",
       "      <td>3.8</td>\n",
       "      <td>We have taken the richness of Sweet Potatoes (...</td>\n",
       "    </tr>\n",
       "    <tr>\n",
       "      <th>27553</th>\n",
       "      <td>27554</td>\n",
       "      <td>Green Tea - Pure Original</td>\n",
       "      <td>Beverages</td>\n",
       "      <td>Tea</td>\n",
       "      <td>Tetley</td>\n",
       "      <td>396.00</td>\n",
       "      <td>495.0</td>\n",
       "      <td>Tea Bags</td>\n",
       "      <td>4.2</td>\n",
       "      <td>Tetley Green Tea with its refreshing pure, ori...</td>\n",
       "    </tr>\n",
       "    <tr>\n",
       "      <th>27554</th>\n",
       "      <td>27555</td>\n",
       "      <td>United Dreams Go Far Deodorant</td>\n",
       "      <td>Beauty &amp; Hygiene</td>\n",
       "      <td>Men's Grooming</td>\n",
       "      <td>United Colors Of Benetton</td>\n",
       "      <td>214.53</td>\n",
       "      <td>390.0</td>\n",
       "      <td>Men's Deodorants</td>\n",
       "      <td>4.5</td>\n",
       "      <td>The new mens fragrance from the United Dreams ...</td>\n",
       "    </tr>\n",
       "  </tbody>\n",
       "</table>\n",
       "</div>"
      ],
      "text/plain": [
       "       index                                     product  \\\n",
       "27550  27551  Wottagirl! Perfume Spray - Heaven, Classic   \n",
       "27551  27552                                    Rosemary   \n",
       "27552  27553                Peri-Peri Sweet Potato Chips   \n",
       "27553  27554                   Green Tea - Pure Original   \n",
       "27554  27555              United Dreams Go Far Deodorant   \n",
       "\n",
       "                   category              sub_category  \\\n",
       "27550      Beauty & Hygiene         Fragrances & Deos   \n",
       "27551  Gourmet & World Food    Cooking & Baking Needs   \n",
       "27552  Gourmet & World Food  Snacks, Dry Fruits, Nuts   \n",
       "27553             Beverages                       Tea   \n",
       "27554      Beauty & Hygiene            Men's Grooming   \n",
       "\n",
       "                            brand  sale_price  market_price  \\\n",
       "27550                      Layerr      199.20         249.0   \n",
       "27551                    Puramate       67.50          75.0   \n",
       "27552                      FabBox      200.00         200.0   \n",
       "27553                      Tetley      396.00         495.0   \n",
       "27554  United Colors Of Benetton       214.53         390.0   \n",
       "\n",
       "                           type  rating  \\\n",
       "27550                   Perfume     3.9   \n",
       "27551  Herbs, Seasonings & Rubs     4.0   \n",
       "27552            Nachos & Chips     3.8   \n",
       "27553                  Tea Bags     4.2   \n",
       "27554          Men's Deodorants     4.5   \n",
       "\n",
       "                                             description  \n",
       "27550  Layerr brings you Wottagirl Classic fragrant b...  \n",
       "27551  Puramate rosemary is enough to transform a dis...  \n",
       "27552  We have taken the richness of Sweet Potatoes (...  \n",
       "27553  Tetley Green Tea with its refreshing pure, ori...  \n",
       "27554  The new mens fragrance from the United Dreams ...  "
      ]
     },
     "execution_count": 5,
     "metadata": {},
     "output_type": "execute_result"
    }
   ],
   "source": [
    "bigbasket.tail()"
   ]
  },
  {
   "cell_type": "code",
   "execution_count": 6,
   "id": "247c1ac4-b699-4ad6-9449-85dca75cec66",
   "metadata": {},
   "outputs": [
    {
     "data": {
      "text/plain": [
       "(27555, 10)"
      ]
     },
     "execution_count": 6,
     "metadata": {},
     "output_type": "execute_result"
    }
   ],
   "source": [
    "bigbasket.shape"
   ]
  },
  {
   "cell_type": "code",
   "execution_count": 7,
   "id": "5e0bfce4-58b4-4daf-84fb-a5c3be315ede",
   "metadata": {},
   "outputs": [
    {
     "name": "stdout",
     "output_type": "stream",
     "text": [
      "<class 'pandas.core.frame.DataFrame'>\n",
      "RangeIndex: 27555 entries, 0 to 27554\n",
      "Data columns (total 10 columns):\n",
      " #   Column        Non-Null Count  Dtype  \n",
      "---  ------        --------------  -----  \n",
      " 0   index         27555 non-null  int64  \n",
      " 1   product       27554 non-null  object \n",
      " 2   category      27555 non-null  object \n",
      " 3   sub_category  27555 non-null  object \n",
      " 4   brand         27554 non-null  object \n",
      " 5   sale_price    27555 non-null  float64\n",
      " 6   market_price  27555 non-null  float64\n",
      " 7   type          27555 non-null  object \n",
      " 8   rating        18929 non-null  float64\n",
      " 9   description   27440 non-null  object \n",
      "dtypes: float64(3), int64(1), object(6)\n",
      "memory usage: 2.1+ MB\n"
     ]
    }
   ],
   "source": [
    "bigbasket.info()"
   ]
  },
  {
   "cell_type": "code",
   "execution_count": 8,
   "id": "70fe6505-b3b7-4734-863c-1c58b159e194",
   "metadata": {},
   "outputs": [
    {
     "data": {
      "text/plain": [
       "index              0\n",
       "product            1\n",
       "category           0\n",
       "sub_category       0\n",
       "brand              1\n",
       "sale_price         0\n",
       "market_price       0\n",
       "type               0\n",
       "rating          8626\n",
       "description      115\n",
       "dtype: int64"
      ]
     },
     "execution_count": 8,
     "metadata": {},
     "output_type": "execute_result"
    }
   ],
   "source": [
    "bigbasket.isnull().sum()"
   ]
  },
  {
   "cell_type": "code",
   "execution_count": 9,
   "id": "595de575-7f99-4b3f-823e-f0c49ea222a4",
   "metadata": {},
   "outputs": [
    {
     "data": {
      "text/html": [
       "<div>\n",
       "<style scoped>\n",
       "    .dataframe tbody tr th:only-of-type {\n",
       "        vertical-align: middle;\n",
       "    }\n",
       "\n",
       "    .dataframe tbody tr th {\n",
       "        vertical-align: top;\n",
       "    }\n",
       "\n",
       "    .dataframe thead th {\n",
       "        text-align: right;\n",
       "    }\n",
       "</style>\n",
       "<table border=\"1\" class=\"dataframe\">\n",
       "  <thead>\n",
       "    <tr style=\"text-align: right;\">\n",
       "      <th></th>\n",
       "      <th>index</th>\n",
       "      <th>sale_price</th>\n",
       "      <th>market_price</th>\n",
       "      <th>rating</th>\n",
       "    </tr>\n",
       "  </thead>\n",
       "  <tbody>\n",
       "    <tr>\n",
       "      <th>count</th>\n",
       "      <td>27555.00000</td>\n",
       "      <td>27555.000000</td>\n",
       "      <td>27555.000000</td>\n",
       "      <td>18929.000000</td>\n",
       "    </tr>\n",
       "    <tr>\n",
       "      <th>mean</th>\n",
       "      <td>13778.00000</td>\n",
       "      <td>322.514808</td>\n",
       "      <td>382.056664</td>\n",
       "      <td>3.943410</td>\n",
       "    </tr>\n",
       "    <tr>\n",
       "      <th>std</th>\n",
       "      <td>7954.58767</td>\n",
       "      <td>486.263116</td>\n",
       "      <td>581.730717</td>\n",
       "      <td>0.739063</td>\n",
       "    </tr>\n",
       "    <tr>\n",
       "      <th>min</th>\n",
       "      <td>1.00000</td>\n",
       "      <td>2.450000</td>\n",
       "      <td>3.000000</td>\n",
       "      <td>1.000000</td>\n",
       "    </tr>\n",
       "    <tr>\n",
       "      <th>25%</th>\n",
       "      <td>6889.50000</td>\n",
       "      <td>95.000000</td>\n",
       "      <td>100.000000</td>\n",
       "      <td>3.700000</td>\n",
       "    </tr>\n",
       "    <tr>\n",
       "      <th>50%</th>\n",
       "      <td>13778.00000</td>\n",
       "      <td>190.000000</td>\n",
       "      <td>220.000000</td>\n",
       "      <td>4.100000</td>\n",
       "    </tr>\n",
       "    <tr>\n",
       "      <th>75%</th>\n",
       "      <td>20666.50000</td>\n",
       "      <td>359.000000</td>\n",
       "      <td>425.000000</td>\n",
       "      <td>4.300000</td>\n",
       "    </tr>\n",
       "    <tr>\n",
       "      <th>max</th>\n",
       "      <td>27555.00000</td>\n",
       "      <td>12500.000000</td>\n",
       "      <td>12500.000000</td>\n",
       "      <td>5.000000</td>\n",
       "    </tr>\n",
       "  </tbody>\n",
       "</table>\n",
       "</div>"
      ],
      "text/plain": [
       "             index    sale_price  market_price        rating\n",
       "count  27555.00000  27555.000000  27555.000000  18929.000000\n",
       "mean   13778.00000    322.514808    382.056664      3.943410\n",
       "std     7954.58767    486.263116    581.730717      0.739063\n",
       "min        1.00000      2.450000      3.000000      1.000000\n",
       "25%     6889.50000     95.000000    100.000000      3.700000\n",
       "50%    13778.00000    190.000000    220.000000      4.100000\n",
       "75%    20666.50000    359.000000    425.000000      4.300000\n",
       "max    27555.00000  12500.000000  12500.000000      5.000000"
      ]
     },
     "execution_count": 9,
     "metadata": {},
     "output_type": "execute_result"
    }
   ],
   "source": [
    "bigbasket.describe()"
   ]
  },
  {
   "cell_type": "markdown",
   "id": "b61e3139-af51-4201-9f24-7f26f7a47fb4",
   "metadata": {},
   "source": [
    "#Performing Outlier treatment in rating column - Using IQR Method"
   ]
  },
  {
   "cell_type": "code",
   "execution_count": 10,
   "id": "f7282051-ca77-43be-888b-c21ad78b9498",
   "metadata": {},
   "outputs": [],
   "source": [
    "Q1=bigbasket[\"rating\"].quantile(.25)\n",
    "Q3=bigbasket[\"rating\"].quantile(.75)"
   ]
  },
  {
   "cell_type": "code",
   "execution_count": 11,
   "id": "d1941239-0d0e-497d-a958-983f8fa8eacc",
   "metadata": {},
   "outputs": [
    {
     "data": {
      "text/plain": [
       "(3.7, 4.3, 2.8000000000000007, 5.199999999999999)"
      ]
     },
     "execution_count": 11,
     "metadata": {},
     "output_type": "execute_result"
    }
   ],
   "source": [
    "IQR=Q3-Q1\n",
    "Lower_Limit=Q1-1.5*IQR\n",
    "Upper_Limit=Q3+1.5*IQR\n",
    "Q1,Q3,Lower_Limit,Upper_Limit"
   ]
  },
  {
   "cell_type": "code",
   "execution_count": 13,
   "id": "c852d1a5-dd72-43db-9af1-f4f9aa06012a",
   "metadata": {},
   "outputs": [
    {
     "data": {
      "text/html": [
       "<div>\n",
       "<style scoped>\n",
       "    .dataframe tbody tr th:only-of-type {\n",
       "        vertical-align: middle;\n",
       "    }\n",
       "\n",
       "    .dataframe tbody tr th {\n",
       "        vertical-align: top;\n",
       "    }\n",
       "\n",
       "    .dataframe thead th {\n",
       "        text-align: right;\n",
       "    }\n",
       "</style>\n",
       "<table border=\"1\" class=\"dataframe\">\n",
       "  <thead>\n",
       "    <tr style=\"text-align: right;\">\n",
       "      <th></th>\n",
       "      <th>index</th>\n",
       "      <th>product</th>\n",
       "      <th>category</th>\n",
       "      <th>sub_category</th>\n",
       "      <th>brand</th>\n",
       "      <th>sale_price</th>\n",
       "      <th>market_price</th>\n",
       "      <th>type</th>\n",
       "      <th>rating</th>\n",
       "      <th>description</th>\n",
       "    </tr>\n",
       "  </thead>\n",
       "  <tbody>\n",
       "    <tr>\n",
       "      <th>1</th>\n",
       "      <td>2</td>\n",
       "      <td>Water Bottle - Orange</td>\n",
       "      <td>Kitchen, Garden &amp; Pets</td>\n",
       "      <td>Storage &amp; Accessories</td>\n",
       "      <td>Mastercook</td>\n",
       "      <td>180.00</td>\n",
       "      <td>180.0</td>\n",
       "      <td>Water &amp; Fridge Bottles</td>\n",
       "      <td>2.3</td>\n",
       "      <td>Each product is microwave safe (without lid), ...</td>\n",
       "    </tr>\n",
       "    <tr>\n",
       "      <th>11</th>\n",
       "      <td>12</td>\n",
       "      <td>Butter Cookies Gold Collection</td>\n",
       "      <td>Gourmet &amp; World Food</td>\n",
       "      <td>Chocolates &amp; Biscuits</td>\n",
       "      <td>Sapphire</td>\n",
       "      <td>600.00</td>\n",
       "      <td>600.0</td>\n",
       "      <td>Luxury Chocolates, Gifts</td>\n",
       "      <td>2.2</td>\n",
       "      <td>Enjoy a tin full of delicious butter cookies m...</td>\n",
       "    </tr>\n",
       "    <tr>\n",
       "      <th>29</th>\n",
       "      <td>30</td>\n",
       "      <td>Lip Butter - Rose</td>\n",
       "      <td>Beauty &amp; Hygiene</td>\n",
       "      <td>Skin Care</td>\n",
       "      <td>Organic Harvest</td>\n",
       "      <td>169.15</td>\n",
       "      <td>199.0</td>\n",
       "      <td>Lip Care</td>\n",
       "      <td>1.5</td>\n",
       "      <td>Reload the dry and chapped lips with Organic L...</td>\n",
       "    </tr>\n",
       "    <tr>\n",
       "      <th>43</th>\n",
       "      <td>44</td>\n",
       "      <td>Storage/Lunch Steel Container with PP Lid - Red</td>\n",
       "      <td>Kitchen, Garden &amp; Pets</td>\n",
       "      <td>Steel Utensils</td>\n",
       "      <td>Classic Essentials</td>\n",
       "      <td>109.00</td>\n",
       "      <td>299.0</td>\n",
       "      <td>Steel Lunch Boxes</td>\n",
       "      <td>2.6</td>\n",
       "      <td>Add a dash of colour to your kitchen with thes...</td>\n",
       "    </tr>\n",
       "    <tr>\n",
       "      <th>64</th>\n",
       "      <td>65</td>\n",
       "      <td>Aqua Halo Rejuvenating Conditioner</td>\n",
       "      <td>Beauty &amp; Hygiene</td>\n",
       "      <td>Hair Care</td>\n",
       "      <td>Azafran</td>\n",
       "      <td>168.75</td>\n",
       "      <td>225.0</td>\n",
       "      <td>Shampoo &amp; Conditioner</td>\n",
       "      <td>1.0</td>\n",
       "      <td>This Aqua Halo Rejuvenating Conditioner is an ...</td>\n",
       "    </tr>\n",
       "  </tbody>\n",
       "</table>\n",
       "</div>"
      ],
      "text/plain": [
       "    index                                          product  \\\n",
       "1       2                            Water Bottle - Orange   \n",
       "11     12                   Butter Cookies Gold Collection   \n",
       "29     30                                Lip Butter - Rose   \n",
       "43     44  Storage/Lunch Steel Container with PP Lid - Red   \n",
       "64     65               Aqua Halo Rejuvenating Conditioner   \n",
       "\n",
       "                  category           sub_category               brand  \\\n",
       "1   Kitchen, Garden & Pets  Storage & Accessories          Mastercook   \n",
       "11    Gourmet & World Food  Chocolates & Biscuits            Sapphire   \n",
       "29        Beauty & Hygiene              Skin Care     Organic Harvest   \n",
       "43  Kitchen, Garden & Pets         Steel Utensils  Classic Essentials   \n",
       "64        Beauty & Hygiene              Hair Care             Azafran   \n",
       "\n",
       "    sale_price  market_price                      type  rating  \\\n",
       "1       180.00         180.0    Water & Fridge Bottles     2.3   \n",
       "11      600.00         600.0  Luxury Chocolates, Gifts     2.2   \n",
       "29      169.15         199.0                  Lip Care     1.5   \n",
       "43      109.00         299.0         Steel Lunch Boxes     2.6   \n",
       "64      168.75         225.0     Shampoo & Conditioner     1.0   \n",
       "\n",
       "                                          description  \n",
       "1   Each product is microwave safe (without lid), ...  \n",
       "11  Enjoy a tin full of delicious butter cookies m...  \n",
       "29  Reload the dry and chapped lips with Organic L...  \n",
       "43  Add a dash of colour to your kitchen with thes...  \n",
       "64  This Aqua Halo Rejuvenating Conditioner is an ...  "
      ]
     },
     "execution_count": 13,
     "metadata": {},
     "output_type": "execute_result"
    }
   ],
   "source": [
    "outliers=bigbasket[(bigbasket.rating<Lower_Limit)| (bigbasket.rating>Upper_Limit)]\n",
    "outliers.head()"
   ]
  },
  {
   "cell_type": "markdown",
   "id": "34675a80-6314-4fde-9a48-52e368b33801",
   "metadata": {},
   "source": [
    "#Total number of Outliers present in the rating column"
   ]
  },
  {
   "cell_type": "code",
   "execution_count": 14,
   "id": "553b634c-1d7c-47fb-a41f-e3cae4961d39",
   "metadata": {},
   "outputs": [
    {
     "data": {
      "text/plain": [
       "(1312, 10)"
      ]
     },
     "execution_count": 14,
     "metadata": {},
     "output_type": "execute_result"
    }
   ],
   "source": [
    "outliers.shape"
   ]
  },
  {
   "cell_type": "markdown",
   "id": "60b2c3f7-47bd-41c0-b7d4-6f0b4c3c4b0c",
   "metadata": {},
   "source": [
    "#Null value treatment - \"rating column\" - filling null values by mean value\n",
    "In other columns there are less number of null values present, so we directly drop those null values"
   ]
  },
  {
   "cell_type": "code",
   "execution_count": 15,
   "id": "69efb287-2f24-4d7b-88dd-992fa20ca374",
   "metadata": {},
   "outputs": [
    {
     "data": {
      "text/plain": [
       "4.1"
      ]
     },
     "execution_count": 15,
     "metadata": {},
     "output_type": "execute_result"
    }
   ],
   "source": [
    "bigbasket[\"rating\"].median()"
   ]
  },
  {
   "cell_type": "code",
   "execution_count": 16,
   "id": "9cbe5cdb-480a-4b3b-8b71-d3215fbbfb78",
   "metadata": {},
   "outputs": [],
   "source": [
    "bigbasket[\"rating\"]=bigbasket[\"rating\"].fillna(4.1)"
   ]
  },
  {
   "cell_type": "code",
   "execution_count": 17,
   "id": "34d30d45-2f20-4cd5-95c6-68ffdb1cb698",
   "metadata": {},
   "outputs": [],
   "source": [
    "bigbasket.dropna(inplace=True)"
   ]
  },
  {
   "cell_type": "code",
   "execution_count": 18,
   "id": "4ad84a5f-0bb6-4994-92b7-a93a3140b244",
   "metadata": {},
   "outputs": [
    {
     "data": {
      "text/plain": [
       "index           0\n",
       "product         0\n",
       "category        0\n",
       "sub_category    0\n",
       "brand           0\n",
       "sale_price      0\n",
       "market_price    0\n",
       "type            0\n",
       "rating          0\n",
       "description     0\n",
       "dtype: int64"
      ]
     },
     "execution_count": 18,
     "metadata": {},
     "output_type": "execute_result"
    }
   ],
   "source": [
    "bigbasket.isnull().sum()"
   ]
  },
  {
   "cell_type": "code",
   "execution_count": 20,
   "id": "f22cfe05-ca06-4d22-852c-aa6085f0cc46",
   "metadata": {},
   "outputs": [
    {
     "data": {
      "text/plain": [
       "(27439, 10)"
      ]
     },
     "execution_count": 20,
     "metadata": {},
     "output_type": "execute_result"
    }
   ],
   "source": [
    "bigbasket.shape"
   ]
  },
  {
   "cell_type": "markdown",
   "id": "43c1bbf9-1eb7-4e53-9406-1cb4ae08b984",
   "metadata": {},
   "source": [
    "#EDA - Exploratory Data Analysis of brand BigBasket data"
   ]
  },
  {
   "cell_type": "code",
   "execution_count": 21,
   "id": "34e41558-4dd7-4c35-beb4-483e3d140b5c",
   "metadata": {},
   "outputs": [
    {
     "data": {
      "text/html": [
       "<div>\n",
       "<style scoped>\n",
       "    .dataframe tbody tr th:only-of-type {\n",
       "        vertical-align: middle;\n",
       "    }\n",
       "\n",
       "    .dataframe tbody tr th {\n",
       "        vertical-align: top;\n",
       "    }\n",
       "\n",
       "    .dataframe thead th {\n",
       "        text-align: right;\n",
       "    }\n",
       "</style>\n",
       "<table border=\"1\" class=\"dataframe\">\n",
       "  <thead>\n",
       "    <tr style=\"text-align: right;\">\n",
       "      <th></th>\n",
       "      <th>index</th>\n",
       "      <th>product</th>\n",
       "      <th>category</th>\n",
       "      <th>sub_category</th>\n",
       "      <th>brand</th>\n",
       "      <th>sale_price</th>\n",
       "      <th>market_price</th>\n",
       "      <th>type</th>\n",
       "      <th>rating</th>\n",
       "      <th>description</th>\n",
       "    </tr>\n",
       "  </thead>\n",
       "  <tbody>\n",
       "    <tr>\n",
       "      <th>0</th>\n",
       "      <td>1</td>\n",
       "      <td>Garlic Oil - Vegetarian Capsule 500 mg</td>\n",
       "      <td>Beauty &amp; Hygiene</td>\n",
       "      <td>Hair Care</td>\n",
       "      <td>Sri Sri Ayurveda</td>\n",
       "      <td>220.0</td>\n",
       "      <td>220.0</td>\n",
       "      <td>Hair Oil &amp; Serum</td>\n",
       "      <td>4.1</td>\n",
       "      <td>This Product contains Garlic Oil that is known...</td>\n",
       "    </tr>\n",
       "    <tr>\n",
       "      <th>1</th>\n",
       "      <td>2</td>\n",
       "      <td>Water Bottle - Orange</td>\n",
       "      <td>Kitchen, Garden &amp; Pets</td>\n",
       "      <td>Storage &amp; Accessories</td>\n",
       "      <td>Mastercook</td>\n",
       "      <td>180.0</td>\n",
       "      <td>180.0</td>\n",
       "      <td>Water &amp; Fridge Bottles</td>\n",
       "      <td>2.3</td>\n",
       "      <td>Each product is microwave safe (without lid), ...</td>\n",
       "    </tr>\n",
       "    <tr>\n",
       "      <th>2</th>\n",
       "      <td>3</td>\n",
       "      <td>Brass Angle Deep - Plain, No.2</td>\n",
       "      <td>Cleaning &amp; Household</td>\n",
       "      <td>Pooja Needs</td>\n",
       "      <td>Trm</td>\n",
       "      <td>119.0</td>\n",
       "      <td>250.0</td>\n",
       "      <td>Lamp &amp; Lamp Oil</td>\n",
       "      <td>3.4</td>\n",
       "      <td>A perfect gift for all occasions, be it your m...</td>\n",
       "    </tr>\n",
       "    <tr>\n",
       "      <th>3</th>\n",
       "      <td>4</td>\n",
       "      <td>Cereal Flip Lid Container/Storage Jar - Assort...</td>\n",
       "      <td>Cleaning &amp; Household</td>\n",
       "      <td>Bins &amp; Bathroom Ware</td>\n",
       "      <td>Nakoda</td>\n",
       "      <td>149.0</td>\n",
       "      <td>176.0</td>\n",
       "      <td>Laundry, Storage Baskets</td>\n",
       "      <td>3.7</td>\n",
       "      <td>Multipurpose container with an attractive desi...</td>\n",
       "    </tr>\n",
       "    <tr>\n",
       "      <th>4</th>\n",
       "      <td>5</td>\n",
       "      <td>Creme Soft Soap - For Hands &amp; Body</td>\n",
       "      <td>Beauty &amp; Hygiene</td>\n",
       "      <td>Bath &amp; Hand Wash</td>\n",
       "      <td>Nivea</td>\n",
       "      <td>162.0</td>\n",
       "      <td>162.0</td>\n",
       "      <td>Bathing Bars &amp; Soaps</td>\n",
       "      <td>4.4</td>\n",
       "      <td>Nivea Creme Soft Soap gives your skin the best...</td>\n",
       "    </tr>\n",
       "  </tbody>\n",
       "</table>\n",
       "</div>"
      ],
      "text/plain": [
       "   index                                            product  \\\n",
       "0      1             Garlic Oil - Vegetarian Capsule 500 mg   \n",
       "1      2                              Water Bottle - Orange   \n",
       "2      3                     Brass Angle Deep - Plain, No.2   \n",
       "3      4  Cereal Flip Lid Container/Storage Jar - Assort...   \n",
       "4      5                 Creme Soft Soap - For Hands & Body   \n",
       "\n",
       "                 category           sub_category              brand  \\\n",
       "0        Beauty & Hygiene              Hair Care  Sri Sri Ayurveda    \n",
       "1  Kitchen, Garden & Pets  Storage & Accessories         Mastercook   \n",
       "2    Cleaning & Household            Pooja Needs                Trm   \n",
       "3    Cleaning & Household   Bins & Bathroom Ware             Nakoda   \n",
       "4        Beauty & Hygiene       Bath & Hand Wash              Nivea   \n",
       "\n",
       "   sale_price  market_price                      type  rating  \\\n",
       "0       220.0         220.0          Hair Oil & Serum     4.1   \n",
       "1       180.0         180.0    Water & Fridge Bottles     2.3   \n",
       "2       119.0         250.0           Lamp & Lamp Oil     3.4   \n",
       "3       149.0         176.0  Laundry, Storage Baskets     3.7   \n",
       "4       162.0         162.0      Bathing Bars & Soaps     4.4   \n",
       "\n",
       "                                         description  \n",
       "0  This Product contains Garlic Oil that is known...  \n",
       "1  Each product is microwave safe (without lid), ...  \n",
       "2  A perfect gift for all occasions, be it your m...  \n",
       "3  Multipurpose container with an attractive desi...  \n",
       "4  Nivea Creme Soft Soap gives your skin the best...  "
      ]
     },
     "execution_count": 21,
     "metadata": {},
     "output_type": "execute_result"
    }
   ],
   "source": [
    "bigbasket.head()"
   ]
  },
  {
   "cell_type": "markdown",
   "id": "d43e9f7a-9c81-496b-be36-af5ba6ec42a2",
   "metadata": {},
   "source": [
    "#Cleaning Product Column\n"
   ]
  },
  {
   "cell_type": "code",
   "execution_count": 25,
   "id": "f4b1ded1-478f-40ca-96ae-e415171e1c6e",
   "metadata": {},
   "outputs": [
    {
     "data": {
      "text/plain": [
       "product\n",
       "Turmeric Powder/Arisina Pudi               26\n",
       "Extra Virgin Olive Oil                     15\n",
       "Cow Ghee/Tuppa                             13\n",
       "Colorsilk Hair Colour With Keratin         12\n",
       "Soft Drink                                 12\n",
       "                                           ..\n",
       "Jamun Vati                                  1\n",
       "Drops - Milk Chocolate                      1\n",
       "Cooling Mint Body Wash                      1\n",
       "Snacks - Cheese Balls, Cheese Flavoured     1\n",
       "Green Tea - Pure Original                   1\n",
       "Name: count, Length: 23449, dtype: int64"
      ]
     },
     "execution_count": 25,
     "metadata": {},
     "output_type": "execute_result"
    }
   ],
   "source": [
    "product_value=bigbasket[\"product\"].value_counts()\n",
    "product_value"
   ]
  },
  {
   "cell_type": "code",
   "execution_count": 26,
   "id": "64e058fe-5ec3-4ef7-87ef-ce60f6554a09",
   "metadata": {},
   "outputs": [
    {
     "data": {
      "text/plain": [
       "product\n",
       "Tea Tree Essential Oil                     4\n",
       "Peanut Butter                              4\n",
       "Cow Ghee/Tuppa - A2 Badri                  4\n",
       "Original Soap                              4\n",
       "Good Day Butter Cookies                    4\n",
       "                                          ..\n",
       "Jamun Vati                                 1\n",
       "Drops - Milk Chocolate                     1\n",
       "Cooling Mint Body Wash                     1\n",
       "Snacks - Cheese Balls, Cheese Flavoured    1\n",
       "Green Tea - Pure Original                  1\n",
       "Name: count, Length: 23346, dtype: int64"
      ]
     },
     "execution_count": 26,
     "metadata": {},
     "output_type": "execute_result"
    }
   ],
   "source": [
    "product_lessthan_5=product_value[product_value<5]\n",
    "product_lessthan_5"
   ]
  },
  {
   "cell_type": "code",
   "execution_count": 29,
   "id": "49101eb8-b0fb-4f89-ae7e-d2fed5df6729",
   "metadata": {},
   "outputs": [],
   "source": [
    "def handle_product(value):\n",
    "    if (value in product_lessthan_5):\n",
    "        return \"others\"\n",
    "    else:\n",
    "        return value\n",
    "\n",
    "bigbasket[\"product\"]=bigbasket[\"product\"].apply(handle_product)\n",
    "print=bigbasket[\"product\"].value_counts()"
   ]
  },
  {
   "cell_type": "markdown",
   "id": "00e6c255-ba53-4982-b3d7-64003bdd9e0e",
   "metadata": {},
   "source": [
    "#Category Column"
   ]
  },
  {
   "cell_type": "code",
   "execution_count": 30,
   "id": "585d3bde-6369-4d36-89d6-d89021b91d89",
   "metadata": {},
   "outputs": [
    {
     "data": {
      "text/plain": [
       "category\n",
       "Beauty & Hygiene            7856\n",
       "Gourmet & World Food        4647\n",
       "Kitchen, Garden & Pets      3562\n",
       "Snacks & Branded Foods      2813\n",
       "Cleaning & Household        2665\n",
       "Foodgrains, Oil & Masala    2655\n",
       "Beverages                    881\n",
       "Bakery, Cakes & Dairy        851\n",
       "Baby Care                    609\n",
       "Fruits & Vegetables          556\n",
       "Eggs, Meat & Fish            344\n",
       "Name: count, dtype: int64"
      ]
     },
     "execution_count": 30,
     "metadata": {},
     "output_type": "execute_result"
    }
   ],
   "source": [
    "category_value=bigbasket[\"category\"].value_counts()\n",
    "category_value\n"
   ]
  },
  {
   "cell_type": "markdown",
   "id": "0e037883-cabf-4035-9421-9919595cbdaa",
   "metadata": {},
   "source": [
    "#Cleaning Sub-Category Column"
   ]
  },
  {
   "cell_type": "code",
   "execution_count": 33,
   "id": "284f6809-6f87-4709-afc0-d5a581c9d6f7",
   "metadata": {},
   "outputs": [
    {
     "data": {
      "text/plain": [
       "sub_category\n",
       "Skin Care                   2291\n",
       "Health & Medicine           1133\n",
       "Hair Care                   1027\n",
       "Storage & Accessories       1013\n",
       "Fragrances & Deos           1000\n",
       "                            ... \n",
       "Mutton & Lamb                 20\n",
       "Water                         17\n",
       "Flower Bouquets, Bunches       8\n",
       "Pork & Other Meats             5\n",
       "Marinades                      1\n",
       "Name: count, Length: 90, dtype: int64"
      ]
     },
     "execution_count": 33,
     "metadata": {},
     "output_type": "execute_result"
    }
   ],
   "source": [
    "sub_category_value=bigbasket[\"sub_category\"].value_counts()\n",
    "sub_category_value"
   ]
  },
  {
   "cell_type": "code",
   "execution_count": 35,
   "id": "997b9096-b00e-4c47-beca-cd4610f764d8",
   "metadata": {},
   "outputs": [
    {
     "data": {
      "text/plain": [
       "sub_category\n",
       "All Purpose Cleaners        473\n",
       "Stationery                  410\n",
       "Bins & Bathroom Ware        392\n",
       "Dairy                       385\n",
       "Cookware & Non Stick        354\n",
       "                           ... \n",
       "Mutton & Lamb                20\n",
       "Water                        17\n",
       "Flower Bouquets, Bunches      8\n",
       "Pork & Other Meats            5\n",
       "Marinades                     1\n",
       "Name: count, Length: 73, dtype: int64"
      ]
     },
     "execution_count": 35,
     "metadata": {},
     "output_type": "execute_result"
    }
   ],
   "source": [
    "sub_category_lessthan_500=sub_category_value[sub_category_value<500]\n",
    "sub_category_lessthan_500"
   ]
  },
  {
   "cell_type": "code",
   "execution_count": 37,
   "id": "99e06e23-6d79-4f6a-8d08-9e3f5890abc3",
   "metadata": {},
   "outputs": [],
   "source": [
    "def handle_sub_cat(value):\n",
    "    if (value in sub_category_lessthan_500):\n",
    "        return \"others\"\n",
    "    else:\n",
    "        return value\n",
    "\n",
    "bigbasket[\"sub_category\"]=bigbasket[\"sub_category\"].apply(handle_sub_cat)\n",
    "print=bigbasket[\"sub_category\"].value_counts()"
   ]
  },
  {
   "cell_type": "markdown",
   "id": "11d2d1ff-47ad-4b81-a141-66394595561f",
   "metadata": {},
   "source": [
    "#Cleaning Brand Column"
   ]
  },
  {
   "cell_type": "code",
   "execution_count": 39,
   "id": "b7c1864d-6376-4f06-88f1-54658b3d4e19",
   "metadata": {},
   "outputs": [
    {
     "data": {
      "text/plain": [
       "brand\n",
       "Fresho              637\n",
       "bb Royal            539\n",
       "BB Home             427\n",
       "DP                  250\n",
       "Fresho Signature    171\n",
       "                   ... \n",
       "Unity                 1\n",
       "Mix Box               1\n",
       "Airific               1\n",
       "Aeres                 1\n",
       "Baron De Bercy        1\n",
       "Name: count, Length: 2309, dtype: int64"
      ]
     },
     "execution_count": 39,
     "metadata": {},
     "output_type": "execute_result"
    }
   ],
   "source": [
    "brand_value=bigbasket[\"brand\"].value_counts()\n",
    "brand_value"
   ]
  },
  {
   "cell_type": "code",
   "execution_count": 40,
   "id": "f7ee7d9b-f42c-4514-aa7c-a9f11bf2eee1",
   "metadata": {},
   "outputs": [
    {
     "data": {
      "text/plain": [
       "brand\n",
       "True Elements     99\n",
       "Mamaearth         97\n",
       "HappyChef         96\n",
       "Graminway         96\n",
       "Dettol            95\n",
       "                  ..\n",
       "Unity              1\n",
       "Mix Box            1\n",
       "Airific            1\n",
       "Aeres              1\n",
       "Baron De Bercy     1\n",
       "Name: count, Length: 2284, dtype: int64"
      ]
     },
     "execution_count": 40,
     "metadata": {},
     "output_type": "execute_result"
    }
   ],
   "source": [
    "brand_lessthan_100=brand_value[brand_value<100]\n",
    "brand_lessthan_100"
   ]
  },
  {
   "cell_type": "code",
   "execution_count": 41,
   "id": "3a659afe-4948-4ac6-a882-961dad8bcaa0",
   "metadata": {},
   "outputs": [],
   "source": [
    "def handlebrand(value):\n",
    "    if (value in brand_lessthan_100):\n",
    "        return \"others\"\n",
    "    else:\n",
    "        return value\n",
    "\n",
    "bigbasket[\"brand\"]=bigbasket[\"brand\"].apply(handlebrand)\n",
    "print=bigbasket[\"brand\"].value_counts()"
   ]
  },
  {
   "cell_type": "markdown",
   "id": "15b7eb3d-18ac-4e79-9e0b-c35d4ddc1192",
   "metadata": {},
   "source": [
    "#Cleaning Type Column"
   ]
  },
  {
   "cell_type": "code",
   "execution_count": 42,
   "id": "6a7a5950-809b-4069-968b-c8bf9cd631a5",
   "metadata": {},
   "outputs": [
    {
     "data": {
      "text/plain": [
       "type\n",
       "Face Care                1506\n",
       "Ayurveda                  538\n",
       "Men's Deodorants          500\n",
       "Shampoo & Conditioner     461\n",
       "Glassware                 415\n",
       "                         ... \n",
       "Fresh & Frozen Pork         1\n",
       "Roses                       1\n",
       "Prawns & Shrimps            1\n",
       "Specialty                   1\n",
       "Turkey & Duck               1\n",
       "Name: count, Length: 426, dtype: int64"
      ]
     },
     "execution_count": 42,
     "metadata": {},
     "output_type": "execute_result"
    }
   ],
   "source": [
    "type_value=bigbasket[\"type\"].value_counts()\n",
    "type_value"
   ]
  },
  {
   "cell_type": "code",
   "execution_count": 44,
   "id": "e600b6a6-30da-4832-8956-aee7634eddca",
   "metadata": {},
   "outputs": [
    {
     "data": {
      "text/plain": [
       "type\n",
       "Cups, Mugs & Tumblers       198\n",
       "Face & Body                 198\n",
       "Chips & Corn Snacks         186\n",
       "Chocolates                  177\n",
       "Cookies, Biscotti, Wafer    174\n",
       "                           ... \n",
       "Fresh & Frozen Pork           1\n",
       "Roses                         1\n",
       "Prawns & Shrimps              1\n",
       "Specialty                     1\n",
       "Turkey & Duck                 1\n",
       "Name: count, Length: 400, dtype: int64"
      ]
     },
     "execution_count": 44,
     "metadata": {},
     "output_type": "execute_result"
    }
   ],
   "source": [
    "type_lessthan200=type_value[type_value<200]\n",
    "type_lessthan200"
   ]
  },
  {
   "cell_type": "code",
   "execution_count": 45,
   "id": "880fa1d4-64ab-479d-8212-18c312a3fb3c",
   "metadata": {},
   "outputs": [],
   "source": [
    "def handle_type(value):\n",
    "    if (value in type_lessthan200):\n",
    "        return \"others\"\n",
    "    else:\n",
    "        return value\n",
    "\n",
    "bigbasket[\"tyep\"]=bigbasket[\"type\"].apply(handle_type)\n",
    "T=bigbasket[\"type\"].value_counts()"
   ]
  },
  {
   "cell_type": "markdown",
   "id": "216c1fca-05c1-410a-9b19-206fe36eac3e",
   "metadata": {},
   "source": [
    "#Checking Values in Sales Price and Market Price columns"
   ]
  },
  {
   "cell_type": "code",
   "execution_count": 47,
   "id": "dd5c0725-81e0-45ec-bfef-9790045afdd7",
   "metadata": {},
   "outputs": [
    {
     "data": {
      "text/plain": [
       "array([ 220.  ,  180.  ,  119.  , ...,  522.78, 4500.  , 1525.75])"
      ]
     },
     "execution_count": 47,
     "metadata": {},
     "output_type": "execute_result"
    }
   ],
   "source": [
    "bigbasket.sale_price.unique()"
   ]
  },
  {
   "cell_type": "code",
   "execution_count": 48,
   "id": "056c0cb8-366b-43c2-b042-97defb011683",
   "metadata": {},
   "outputs": [
    {
     "data": {
      "text/plain": [
       "array([ 220.,  180.,  250., ...,  622.,  636., 1071.])"
      ]
     },
     "execution_count": 48,
     "metadata": {},
     "output_type": "execute_result"
    }
   ],
   "source": [
    "bigbasket.market_price.unique()"
   ]
  },
  {
   "cell_type": "markdown",
   "id": "8c6e5b36-0f60-4d42-8ac2-b950a3d29001",
   "metadata": {},
   "source": [
    "#Saving the cleaned Big basket data in CSV file"
   ]
  },
  {
   "cell_type": "code",
   "execution_count": 50,
   "id": "8e473d24-2553-4842-9486-e8a304256d18",
   "metadata": {},
   "outputs": [],
   "source": [
    "bigbasket.to_csv(\"bigbasket_cleaned_data_csv\",index=False)"
   ]
  },
  {
   "cell_type": "code",
   "execution_count": null,
   "id": "b0de5b18-379d-4252-903c-feb077470a99",
   "metadata": {},
   "outputs": [],
   "source": []
  }
 ],
 "metadata": {
  "kernelspec": {
   "display_name": "Python 3 (ipykernel)",
   "language": "python",
   "name": "python3"
  },
  "language_info": {
   "codemirror_mode": {
    "name": "ipython",
    "version": 3
   },
   "file_extension": ".py",
   "mimetype": "text/x-python",
   "name": "python",
   "nbconvert_exporter": "python",
   "pygments_lexer": "ipython3",
   "version": "3.12.4"
  }
 },
 "nbformat": 4,
 "nbformat_minor": 5
}
